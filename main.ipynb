{
 "cells": [
  {
   "cell_type": "code",
   "execution_count": 1,
   "metadata": {},
   "outputs": [
    {
     "name": "stderr",
     "output_type": "stream",
     "text": [
      "Some weights of the model checkpoint at allegro/herbert-large-cased were not used when initializing BertModel: ['cls.predictions.transform.LayerNorm.weight', 'cls.predictions.transform.dense.weight', 'cls.predictions.decoder.bias', 'cls.predictions.decoder.weight', 'cls.predictions.transform.dense.bias', 'cls.sso.sso_relationship.weight', 'cls.sso.sso_relationship.bias', 'cls.predictions.bias', 'cls.predictions.transform.LayerNorm.bias']\n",
      "- This IS expected if you are initializing BertModel from the checkpoint of a model trained on another task or with another architecture (e.g. initializing a BertForSequenceClassification model from a BertForPreTraining model).\n",
      "- This IS NOT expected if you are initializing BertModel from the checkpoint of a model that you expect to be exactly identical (initializing a BertForSequenceClassification model from a BertForSequenceClassification model).\n"
     ]
    },
    {
     "name": "stdout",
     "output_type": "stream",
     "text": [
      "https://lubimyczytac.pl/kategoria/beletrystyka/fantasy-science-fiction\n",
      "https://lubimyczytac.pl/kategoria/beletrystyka/horror\n",
      "https://lubimyczytac.pl/kategoria/beletrystyka/klasyka\n",
      "https://lubimyczytac.pl/kategoria/beletrystyka/kryminal-sensacja-thriller\n",
      "https://lubimyczytac.pl/kategoria/beletrystyka/literatura-mlodziezowa\n",
      "https://lubimyczytac.pl/kategoria/beletrystyka/literatura-obyczajowa-romans\n",
      "https://lubimyczytac.pl/kategoria/beletrystyka/literatura-piekna\n",
      "https://lubimyczytac.pl/kategoria/beletrystyka/powiesc-historyczna\n",
      "https://lubimyczytac.pl/kategoria/beletrystyka/powiesc-przygodowa\n",
      "https://lubimyczytac.pl/kategoria/literatura-faktu/biografia-autobiografia-pamietnik\n",
      "https://lubimyczytac.pl/kategoria/literatura-faktu/literatura-podroznicza\n",
      "https://lubimyczytac.pl/kategoria/literatura-faktu/publicystyka-literacka-eseje\n",
      "https://lubimyczytac.pl/kategoria/literatura-faktu/reportaz\n",
      "https://lubimyczytac.pl/kategoria/literatura-popularnonaukowa/astronomia-astrofizyka\n",
      "https://lubimyczytac.pl/kategoria/literatura-popularnonaukowa/biznes-finanse\n",
      "https://lubimyczytac.pl/kategoria/literatura-popularnonaukowa/encyklopedie-slowniki\n",
      "https://lubimyczytac.pl/kategoria/literatura-popularnonaukowa/filozofia-etyka\n",
      "https://lubimyczytac.pl/kategoria/literatura-popularnonaukowa/flora-i-fauna\n",
      "https://lubimyczytac.pl/kategoria/literatura-popularnonaukowa/historia\n",
      "https://lubimyczytac.pl/kategoria/literatura-popularnonaukowa/informatyka-matematyka\n",
      "https://lubimyczytac.pl/kategoria/literatura-popularnonaukowa/jezykoznawstwo-nauka-o-literaturze\n",
      "https://lubimyczytac.pl/kategoria/literatura-popularnonaukowa/nauki-przyrodnicze-fizyka-chemia-biologia-itd\n",
      "https://lubimyczytac.pl/kategoria/literatura-popularnonaukowa/nauki-spoleczne-psychologia-socjologia-itd\n",
      "https://lubimyczytac.pl/kategoria/literatura-popularnonaukowa/popularnonaukowa\n",
      "https://lubimyczytac.pl/kategoria/literatura-popularnonaukowa/poradniki-dla-rodzicow\n",
      "https://lubimyczytac.pl/kategoria/literatura-popularnonaukowa/technika\n",
      "https://lubimyczytac.pl/kategoria/literatura-popularnonaukowa/zdrowie-medycyna\n",
      "https://lubimyczytac.pl/kategoria/literatura-dziecieca/bajki\n",
      "https://lubimyczytac.pl/kategoria/literatura-dziecieca/basnie-legendy-podania\n",
      "https://lubimyczytac.pl/kategoria/literatura-dziecieca/historie-biblijne\n",
      "https://lubimyczytac.pl/kategoria/literatura-dziecieca/interaktywne-obrazkowe-edukacyjne\n",
      "https://lubimyczytac.pl/kategoria/literatura-dziecieca/literatura-dziecieca\n",
      "https://lubimyczytac.pl/kategoria/literatura-dziecieca/opowiadania-powiesci-dla-dzieci\n",
      "https://lubimyczytac.pl/kategoria/literatura-dziecieca/opowiesci-dla-mlodszych-dzieci\n",
      "https://lubimyczytac.pl/kategoria/literatura-dziecieca/popularnonaukowa-dziecieca\n",
      "https://lubimyczytac.pl/kategoria/literatura-dziecieca/pozostale\n",
      "https://lubimyczytac.pl/kategoria/literatura-dziecieca/wierszyki-piosenki\n",
      "https://lubimyczytac.pl/kategoria/komiksy/komiksy\n",
      "https://lubimyczytac.pl/kategoria/poezja-dramat-satyra/poezja\n",
      "https://lubimyczytac.pl/kategoria/poezja-dramat-satyra/satyra\n",
      "https://lubimyczytac.pl/kategoria/poezja-dramat-satyra/utwor-dramatyczny-dramat-komedia-tragedia\n",
      "https://lubimyczytac.pl/kategoria/pozostale/albumy\n",
      "https://lubimyczytac.pl/kategoria/pozostale/czasopisma\n",
      "https://lubimyczytac.pl/kategoria/pozostale/ezoteryka-senniki-horoskopy\n",
      "https://lubimyczytac.pl/kategoria/pozostale/film-kino-telewizja\n",
      "https://lubimyczytac.pl/kategoria/pozostale/hobby\n",
      "https://lubimyczytac.pl/kategoria/pozostale/inne\n",
      "https://lubimyczytac.pl/kategoria/pozostale/kulinaria-przepisy-kulinarne\n",
      "https://lubimyczytac.pl/kategoria/pozostale/militaria-wojskowosc\n",
      "https://lubimyczytac.pl/kategoria/pozostale/motoryzacja\n",
      "https://lubimyczytac.pl/kategoria/pozostale/muzyka\n",
      "https://lubimyczytac.pl/kategoria/pozostale/poradniki\n",
      "https://lubimyczytac.pl/kategoria/pozostale/religia\n",
      "https://lubimyczytac.pl/kategoria/pozostale/rozrywka\n",
      "https://lubimyczytac.pl/kategoria/pozostale/rekodzielo\n",
      "https://lubimyczytac.pl/kategoria/pozostale/sport\n",
      "https://lubimyczytac.pl/kategoria/pozostale/sztuka\n",
      "https://lubimyczytac.pl/kategoria/pozostale/teatr\n",
      "https://lubimyczytac.pl/kategoria/pozostale/turystyka-mapy-atlasy\n"
     ]
    }
   ],
   "source": [
    "from utils import get_keywords\n",
    "from onto import create_base, add_instance\n",
    "from scrapper import book_dict, books_urls, create_books_dicts\n"
   ]
  },
  {
   "cell_type": "code",
   "execution_count": 2,
   "metadata": {},
   "outputs": [
    {
     "name": "stderr",
     "output_type": "stream",
     "text": [
      "Some characters could not be decoded, and were replaced with REPLACEMENT CHARACTER.\n",
      "Some characters could not be decoded, and were replaced with REPLACEMENT CHARACTER.\n",
      "Some characters could not be decoded, and were replaced with REPLACEMENT CHARACTER.\n",
      "Some characters could not be decoded, and were replaced with REPLACEMENT CHARACTER.\n",
      "Some characters could not be decoded, and were replaced with REPLACEMENT CHARACTER.\n"
     ]
    }
   ],
   "source": [
    "books_dict = create_books_dicts(books_urls())\n"
   ]
  },
  {
   "cell_type": "code",
   "execution_count": 3,
   "metadata": {},
   "outputs": [],
   "source": [
    "final_books = []\n",
    "for book in books_dict:\n",
    "    book['keywords'] = get_keywords(book['description'], 5)\n",
    "    book.pop('description')\n",
    "\n",
    "    final_books.append(book)\n",
    "\n",
    "del books_dict\n"
   ]
  },
  {
   "cell_type": "code",
   "execution_count": 4,
   "metadata": {},
   "outputs": [],
   "source": [
    "onto_path = 'book_ontology.owl'\n",
    "onto_iri = \"http://www.example.org/new-book-ontology#\"\n",
    "\n",
    "create_base(onto_path)\n"
   ]
  },
  {
   "cell_type": "code",
   "execution_count": 5,
   "metadata": {},
   "outputs": [
    {
     "data": {
      "text/plain": [
       "{'title': 'USA',\n",
       " 'author': 'Paweł Paluch',\n",
       " 'author_url': 'https://lubimyczytac.pl/autor/257638/pawel-paluch',\n",
       " 'page_number': 320,\n",
       " 'reading_mins': 320,\n",
       " 'category': 'turystyka, mapy, atlasy',\n",
       " 'category_url': 'https://lubimyczytac.pl/ksiazki/k/81/turystyka-mapy-atlasy',\n",
       " 'publisher': 'Pascal',\n",
       " 'series': '',\n",
       " 'rating': 0.0,\n",
       " 'keywords': ['okładka', 'słowniczek', 'sztuka', 'oaza', 'znajdziecie']}"
      ]
     },
     "execution_count": 5,
     "metadata": {},
     "output_type": "execute_result"
    }
   ],
   "source": [
    "book\n"
   ]
  },
  {
   "cell_type": "code",
   "execution_count": 6,
   "metadata": {},
   "outputs": [],
   "source": [
    "for book in final_books:\n",
    "    add_instance(onto_path, onto_iri, book)\n"
   ]
  }
 ],
 "metadata": {
  "kernelspec": {
   "display_name": "base",
   "language": "python",
   "name": "python3"
  },
  "language_info": {
   "codemirror_mode": {
    "name": "ipython",
    "version": 3
   },
   "file_extension": ".py",
   "mimetype": "text/x-python",
   "name": "python",
   "nbconvert_exporter": "python",
   "pygments_lexer": "ipython3",
   "version": "3.9.13"
  },
  "orig_nbformat": 4,
  "vscode": {
   "interpreter": {
    "hash": "75a7a2f2856d09d3581c769256ac1c015132059993c94c4aebdcd920fc505d70"
   }
  }
 },
 "nbformat": 4,
 "nbformat_minor": 2
}
